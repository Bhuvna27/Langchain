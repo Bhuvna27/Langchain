{
 "cells": [
  {
   "cell_type": "markdown",
   "id": "a7850941",
   "metadata": {},
   "source": [
    "# FAISS - Vector store"
   ]
  },
  {
   "cell_type": "markdown",
   "id": "4007a1c0",
   "metadata": {},
   "source": [
    "### FAISS is a library developed by facebook, it is Facebook AI Similarity Search(FAISS) and it is useful for efficient similarity search and clustering of dense vectors.\n",
    "\n",
    "The key thing to note here..what kind of operations do we perform on vector stores - Mostly similarity search and some other as well"
   ]
  },
  {
   "cell_type": "code",
   "execution_count": 1,
   "id": "b88a717f",
   "metadata": {},
   "outputs": [
    {
     "data": {
      "text/plain": [
       "[Document(metadata={'source': 'speech.txt'}, page_content='Life doesn’t wait for the perfect moment — it moves forward, whether we’re ready or not. Success rarely arrives in a straight line; it’s born in quiet persistence, late nights, and the courage to keep going when no one’s cheering. Every setback you face is not a stop sign — it’s a redirection, a lesson, a chance to grow stronger than you were yesterday. You don’t need all the answers to begin. What you need is belief — belief that your effort matters, that progress beats perfection, and that even small steps forward are steps worth taking. So show up, even when it’s hard. Speak up, even when you’re unsure. And keep moving, because the life you want won’t come from waiting — it will come from daring.')]"
      ]
     },
     "execution_count": 1,
     "metadata": {},
     "output_type": "execute_result"
    }
   ],
   "source": [
    "from langchain_community.document_loaders import TextLoader\n",
    "from langchain_community.vectorstores import FAISS\n",
    "from langchain_community.embeddings import OllamaEmbeddings\n",
    "from langchain_text_splitters import CharacterTextSplitter\n",
    "\n",
    "loader = TextLoader(\"speech.txt\")\n",
    "documents = loader.load()\n",
    "\n",
    "text_splitter = CharacterTextSplitter(chunk_size =1000, chunk_overlap = 20)\n",
    "docs = text_splitter.split_documents(documents)\n",
    "docs\n",
    "\n",
    "\n",
    "\n"
   ]
  },
  {
   "cell_type": "code",
   "execution_count": 6,
   "id": "18fcb552",
   "metadata": {},
   "outputs": [
    {
     "data": {
      "text/plain": [
       "<langchain_community.vectorstores.faiss.FAISS at 0x10bafc810>"
      ]
     },
     "execution_count": 6,
     "metadata": {},
     "output_type": "execute_result"
    }
   ],
   "source": [
    "embeddings = OllamaEmbeddings(model= \"gemma:2b\")  # or model=\"llama2\"\n",
    "db = FAISS.from_documents(docs, embeddings) \n",
    "db\n",
    "\n"
   ]
  },
  {
   "cell_type": "code",
   "execution_count": 8,
   "id": "1df05fcf",
   "metadata": {},
   "outputs": [
    {
     "data": {
      "text/plain": [
       "'Life doesn’t wait for the perfect moment — it moves forward, whether we’re ready or not. Success rarely arrives in a straight line; it’s born in quiet persistence, late nights, and the courage to keep going when no one’s cheering. Every setback you face is not a stop sign — it’s a redirection, a lesson, a chance to grow stronger than you were yesterday. You don’t need all the answers to begin. What you need is belief — belief that your effort matters, that progress beats perfection, and that even small steps forward are steps worth taking. So show up, even when it’s hard. Speak up, even when you’re unsure. And keep moving, because the life you want won’t come from waiting — it will come from daring.'"
      ]
     },
     "execution_count": 8,
     "metadata": {},
     "output_type": "execute_result"
    }
   ],
   "source": [
    "query = \"How does the speaker describe the impact of war?\"\n",
    "docs = db.similarity_search(query)\n",
    "docs[0].page_content"
   ]
  },
  {
   "cell_type": "markdown",
   "id": "07039acc",
   "metadata": {},
   "source": [
    "### Retriever\n",
    "\n",
    "We can also convert the vectorstore into a Retriever class. This allows use to easily use in other LangChain methods, which largely work with retrievers"
   ]
  },
  {
   "cell_type": "code",
   "execution_count": 9,
   "id": "f60d7172",
   "metadata": {},
   "outputs": [
    {
     "data": {
      "text/plain": [
       "'Life doesn’t wait for the perfect moment — it moves forward, whether we’re ready or not. Success rarely arrives in a straight line; it’s born in quiet persistence, late nights, and the courage to keep going when no one’s cheering. Every setback you face is not a stop sign — it’s a redirection, a lesson, a chance to grow stronger than you were yesterday. You don’t need all the answers to begin. What you need is belief — belief that your effort matters, that progress beats perfection, and that even small steps forward are steps worth taking. So show up, even when it’s hard. Speak up, even when you’re unsure. And keep moving, because the life you want won’t come from waiting — it will come from daring.'"
      ]
     },
     "execution_count": 9,
     "metadata": {},
     "output_type": "execute_result"
    }
   ],
   "source": [
    "retriever = db.as_retriever()\n",
    "docs = retriever.invoke(query)\n",
    "docs[0].page_content"
   ]
  },
  {
   "cell_type": "markdown",
   "id": "61be6392",
   "metadata": {},
   "source": [
    "### Similarity Search with score\n",
    "\n",
    "One of the FAISS specific methods.One of them is similarity_search_with_score, which allows you to return not only the documents but also the distance score of the query to them. The returned distance score is L2 distance.Therefore lower is better"
   ]
  },
  {
   "cell_type": "code",
   "execution_count": 11,
   "id": "77ac3893",
   "metadata": {},
   "outputs": [
    {
     "data": {
      "text/plain": [
       "[(Document(id='1d33d3de-669a-4ecd-bed8-6d3218f96ba2', metadata={'source': 'speech.txt'}, page_content='Life doesn’t wait for the perfect moment — it moves forward, whether we’re ready or not. Success rarely arrives in a straight line; it’s born in quiet persistence, late nights, and the courage to keep going when no one’s cheering. Every setback you face is not a stop sign — it’s a redirection, a lesson, a chance to grow stronger than you were yesterday. You don’t need all the answers to begin. What you need is belief — belief that your effort matters, that progress beats perfection, and that even small steps forward are steps worth taking. So show up, even when it’s hard. Speak up, even when you’re unsure. And keep moving, because the life you want won’t come from waiting — it will come from daring.'),\n",
       "  np.float32(4120.893))]"
      ]
     },
     "execution_count": 11,
     "metadata": {},
     "output_type": "execute_result"
    }
   ],
   "source": [
    "docs_and_scores = db.similarity_search_with_score(query)\n",
    "docs_and_scores"
   ]
  }
 ],
 "metadata": {
  "kernelspec": {
   "display_name": "genai",
   "language": "python",
   "name": "python3"
  },
  "language_info": {
   "codemirror_mode": {
    "name": "ipython",
    "version": 3
   },
   "file_extension": ".py",
   "mimetype": "text/x-python",
   "name": "python",
   "nbconvert_exporter": "python",
   "pygments_lexer": "ipython3",
   "version": "3.11.13"
  }
 },
 "nbformat": 4,
 "nbformat_minor": 5
}
