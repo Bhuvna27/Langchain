{
 "cells": [
  {
   "cell_type": "markdown",
   "id": "720ca5a3",
   "metadata": {},
   "source": [
    "# Chroma - Vectorstore"
   ]
  },
  {
   "cell_type": "code",
   "execution_count": null,
   "id": "e1bea0ef",
   "metadata": {
    "vscode": {
     "languageId": "plaintext"
    }
   },
   "outputs": [],
   "source": [
    "## Building a sample Vector DB\n",
    "\n",
    "from langchain_chroma import langchain_chroma\n",
    "from langchain_community.document_loaders import TextLoader\n",
    "from langchain_community.embeddings import OllamaEmbeddings\n",
    "from langchain_text_splitters import RecursiveCharacterTextSplitter\n",
    "\n"
   ]
  },
  {
   "cell_type": "code",
   "execution_count": null,
   "id": "c260f254",
   "metadata": {
    "vscode": {
     "languageId": "plaintext"
    }
   },
   "outputs": [],
   "source": [
    "loader = TextLoader(\"speech.txt\")\n",
    "documents = loader.load()\n",
    "\n",
    "text_splitter = RecursiveCharacterTextSplitter(chunk_size =1000, chunk_overlap = 20)\n",
    "docs = text_splitter.split_documents(documents)\n",
    "docs\n"
   ]
  }
 ],
 "metadata": {
  "language_info": {
   "name": "python"
  }
 },
 "nbformat": 4,
 "nbformat_minor": 5
}
